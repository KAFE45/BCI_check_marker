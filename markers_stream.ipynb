{
  "nbformat": 4,
  "nbformat_minor": 0,
  "metadata": {
    "colab": {
      "provenance": [],
      "authorship_tag": "ABX9TyPJ6idnUXtFN+G+vagK7E7N",
      "include_colab_link": true
    },
    "kernelspec": {
      "name": "python3",
      "display_name": "Python 3"
    },
    "language_info": {
      "name": "python"
    }
  },
  "cells": [
    {
      "cell_type": "markdown",
      "metadata": {
        "id": "view-in-github",
        "colab_type": "text"
      },
      "source": [
        "<a href=\"https://colab.research.google.com/github/KAFE45/BCI_check_marker/blob/main/markers_stream.ipynb\" target=\"_parent\"><img src=\"https://colab.research.google.com/assets/colab-badge.svg\" alt=\"Open In Colab\"/></a>"
      ]
    },
    {
      "cell_type": "code",
      "execution_count": null,
      "metadata": {
        "id": "SKE3T1CUPYK8"
      },
      "outputs": [],
      "source": [
        "pip install mne pyxdf"
      ]
    },
    {
      "cell_type": "code",
      "source": [
        "from google.colab import files\n",
        "\n",
        "# อัปโหลดไฟล์ XDF\n",
        "uploaded = files.upload()\n",
        "\n",
        "# เลือกไฟล์ XDF ที่อัปโหลด\n",
        "xdf_file = list(uploaded.keys())[0]"
      ],
      "metadata": {
        "id": "H2Je9GlZPbCG"
      },
      "execution_count": null,
      "outputs": []
    },
    {
      "cell_type": "code",
      "source": [
        "import pyxdf\n",
        "\n",
        "# โหลดไฟล์ XDF\n",
        "streams, header = pyxdf.load_xdf('/content/sub-SSVEP01_ses-S001_task-Default_run-001_eeg.xdf')\n",
        "\n",
        "# แสดงชื่อสตรีมทั้งหมด\n",
        "for i, stream in enumerate(streams):\n",
        "    print(f\"Stream {i}: {stream['info']['name']}\")\n",
        "\n",
        "# ตรวจสอบข้อมูลในสตรีม EEG\n",
        "eeg_stream = [s for s in streams if 'eeg' in s['info']['name']][0]\n",
        "print(\"EEG Stream Info:\")\n",
        "print(f\"Name: {eeg_stream['info']['name']}\")\n",
        "print(f\"Shape: {eeg_stream['time_series'].shape}\")\n",
        "print(f\"Sample Rate: {eeg_stream['info']['nominal_srate']} Hz\")\n",
        "\n",
        "# ตรวจสอบข้อมูลในสตรีม Markers\n",
        "markers_stream = [s for s in streams if 'PsychoPyMarkers' in s['info']['name']][0]\n",
        "print(\"Markers Stream Info:\")\n",
        "print(f\"Name: {markers_stream['info']['name']}\")\n",
        "print(f\"Shape: {markers_stream['time_series'].shape}\")"
      ],
      "metadata": {
        "id": "oajGhL_LPfEJ"
      },
      "execution_count": null,
      "outputs": []
    }
  ]
}